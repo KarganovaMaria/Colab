{
  "nbformat": 4,
  "nbformat_minor": 0,
  "metadata": {
    "colab": {
      "provenance": [],
      "authorship_tag": "ABX9TyOAEeHijj/h/eZtvDqiJRtv",
      "include_colab_link": true
    },
    "kernelspec": {
      "name": "python3",
      "display_name": "Python 3"
    },
    "language_info": {
      "name": "python"
    }
  },
  "cells": [
    {
      "cell_type": "markdown",
      "metadata": {
        "id": "view-in-github",
        "colab_type": "text"
      },
      "source": [
        "<a href=\"https://colab.research.google.com/github/KarganovaMaria/Colab/blob/main/Untitled3.ipynb\" target=\"_parent\"><img src=\"https://colab.research.google.com/assets/colab-badge.svg\" alt=\"Open In Colab\"/></a>"
      ]
    },
    {
      "cell_type": "code",
      "execution_count": null,
      "metadata": {
        "id": "-s8T46QSigbp"
      },
      "outputs": [],
      "source": []
    },
    {
      "cell_type": "markdown",
      "source": [
        "<img src=https://basetop.ru/wp-content/uploads/2018/11/2bkvkagm.jpg>\n",
        "<p>1 абзац</p>\n",
        "<p>2 абзац</p>\n",
        "\n",
        "<b>жирныйжирныйжирный</b>\n",
        "<i>курсивкурсивкурсив</i>\n",
        "\n",
        "<h1>Заголовок 1</h1>\n",
        "\n",
        "<ul>\n",
        "<li>1 пункт списка</li>\n",
        "<li>2 пункт списка</li>\n",
        "</ul>\n",
        "\n",
        "<ol>\n",
        "<li>1 пункт списка</li>\n",
        "<li>2 пункт списка</li>\n",
        "</ol>\n",
        "\n",
        "**жирный_MarkDown**\n",
        "\n",
        "*курсив_MarkDown*\n",
        "\n",
        "- первый\n",
        "- второй\n",
        "- третий\n",
        "\n",
        "1. 1_MarkDown\n",
        "2. 2_MarkDown\n",
        "3. 3_MarkDown\n",
        "\n",
        "[Название картинки](https://basetop.ru/wp-content/uploads/2018/11/2bkvkagm.jpg)\n",
        "\n",
        "![image](https://basetop.ru/wp-content/uploads/2018/11/2bkvkagm.jpg)\n",
        "\n",
        "\n",
        "<table border= \"1\">\n",
        "\n",
        "<tr>\n",
        "<td> Ячейка\n",
        "<td> Ячейка\n",
        "</tr>\n",
        "<tr>\n",
        "<td> Ячейка\n",
        "<td> Ячейка\n",
        "</tr>\n",
        "</table>\n",
        "\n",
        "\n",
        "|Ячейка1|Ячейка2|\n",
        "|-------|-------|\n",
        "|Ячейка3|Ячейка4|\n",
        "\n",
        "\n",
        "Формулы:\n",
        "\n",
        "Нотация LaTex:\n",
        "\n",
        "$$\\sigma=\\sqrt{\\frac{\\sum_{i=1}^n\\left(x_i-\\bar{x}\\right)^2}{n-1}}$$\n"
      ],
      "metadata": {
        "id": "9H4Nmtg3jVJB"
      }
    }
  ]
}